{
 "cells": [
  {
   "metadata": {},
   "cell_type": "code",
   "source": [
    "import sys\n",
    "import time\n",
    "import logging\n",
    "from subprocess import PIPE, STDOUT, Popen"
   ],
   "id": "8599be62b3a2b9e2",
   "outputs": [],
   "execution_count": null
  },
  {
   "metadata": {},
   "cell_type": "code",
   "source": [
    "logger = logging.getLogger()\n",
    "logging.basicConfig()\n",
    "logger.setLevel(logging.INFO)"
   ],
   "id": "e62718d71919a387",
   "outputs": [],
   "execution_count": null
  },
  {
   "metadata": {
    "collapsed": true,
    "tags": [
     "parameters"
    ]
   },
   "cell_type": "code",
   "source": [
    "#******** REQUIRE PARAMETERS*****************\\n\n",
    "script = \"echo hello world\"\n",
    "command_line_args = []\n",
    "executor = \"bash\"\n",
    "executor_options = [\"-c\"]\n",
    "#************************************************"
   ],
   "id": "initial_id",
   "outputs": [],
   "execution_count": null
  },
  {
   "metadata": {},
   "cell_type": "code",
   "source": [
    "def execute_script(execution_script, args, script_executor, options):\n",
    "    command = [script_executor] + (options or []) + [execution_script] + (args or [])\n",
    "    logger.info(\"Start executing: {}\".format(command))\n",
    "    logger.info('*************************************')\n",
    "    p = Popen(command, stdout=PIPE, stderr=STDOUT)\n",
    "\n",
    "    while p.poll() is None:\n",
    "        for line in iter(p.stdout.readline, b''):\n",
    "            line = line.rstrip()\n",
    "            sys.stdout.write(line.decode(\"utf-8\", \"backslashreplace\"))\n",
    "            sys.stdout.flush()\n",
    "        time.sleep(0.5)\n",
    "    logger.info('*************************************')\n",
    "\n",
    "    return p.returncode"
   ],
   "id": "73f633d2227877d0",
   "outputs": [],
   "execution_count": null
  },
  {
   "metadata": {},
   "cell_type": "code",
   "source": [
    "ret = execute_script(script, command_line_args, executor, executor_options)\n",
    "sys.stdout.flush()\n",
    "\n",
    "if ret:\n",
    "    raise Exception(\"Script failed with return code: %s!\" % ret)\n",
    "else:\n",
    "    logger.info(\"Execution completed successfully!\")\n",
    "    sys.stdout.flush()"
   ],
   "id": "db917e815e68ab9e",
   "outputs": [],
   "execution_count": null
  }
 ],
 "metadata": {
  "kernelspec": {
   "display_name": "Python 3",
   "language": "python",
   "name": "python3"
  },
  "language_info": {
   "codemirror_mode": {
    "name": "ipython",
    "version": 2
   },
   "file_extension": ".py",
   "mimetype": "text/x-python",
   "name": "python",
   "nbconvert_exporter": "python",
   "pygments_lexer": "ipython2",
   "version": "2.7.6"
  }
 },
 "nbformat": 4,
 "nbformat_minor": 5
}
